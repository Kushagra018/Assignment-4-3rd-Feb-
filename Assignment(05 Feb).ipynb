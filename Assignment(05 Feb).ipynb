{
 "cells": [
  {
   "attachments": {},
   "cell_type": "markdown",
   "metadata": {},
   "source": [
    "# Assignment (PW SKills)"
   ]
  },
  {
   "attachments": {},
   "cell_type": "markdown",
   "metadata": {},
   "source": [
    "Q1. Explain Class and Object with respect to Object-Oriented Programming. Give a suitable example.\n"
   ]
  },
  {
   "attachments": {},
   "cell_type": "markdown",
   "metadata": {},
   "source": [
    "Ans) In object-oriented programming (OOP), a class is a blueprint or template that defines the structure and behavior of objects. It serves as a blueprint for creating instances, also known as objects. A class encapsulates data (attributes or properties) and methods (functions or behaviors) that operate on that data. It provides a way to create multiple objects with the same structure and behavior. Objects are the instance of the class  .Objects have their own unique identity and can have their own specific values for the attributes defined in the class. \n",
    "\n",
    "FOR EXAMPLE- lets consider \"car\" as a class. Now car class would define the properties and behaviours that are common in all the cars such as \"colour\", \"brand\",\"name\",\"model\" and so on. These are the properties and behaviours can be represented as attributes and methods within the class.\n"
   ]
  },
  {
   "attachments": {},
   "cell_type": "markdown",
   "metadata": {},
   "source": [
    "Q2. Name the four pillars of OOPs."
   ]
  },
  {
   "attachments": {},
   "cell_type": "markdown",
   "metadata": {},
   "source": [
    "Ans) Four pillars of OOPs are \n",
    "    1) Abstaction\n",
    "    2) Polymorphism\n",
    "    3) inheritance\n",
    "    4) Abstraction\n",
    "    "
   ]
  },
  {
   "attachments": {},
   "cell_type": "markdown",
   "metadata": {},
   "source": [
    "Q3. Explain why the __init__() function is used. Give a suitable example."
   ]
  },
  {
   "attachments": {},
   "cell_type": "markdown",
   "metadata": {},
   "source": [
    "Ans) The __init__() function is a special method in Python classes that is used to initialize the attributes of an object when it is created. It stands for \"initialize\" and is also known as the constructor method.\n",
    "\n",
    "The __init__() method is called automatically when a new object is instantiated from a class. It allows you to specify the initial state of the object by assigning values to its attributes. By defining the __init__() method, you can ensure that certain attributes are always set when an object is created, providing a consistent and predictable object initialization process."
   ]
  },
  {
   "cell_type": "code",
   "execution_count": null,
   "metadata": {},
   "outputs": [],
   "source": [
    "# EXAMPLE \n",
    "\n",
    "class person:\n",
    "    def __init__(self,name,age,profession):\n",
    "        self.name= name\n",
    "        self.age = age\n",
    "        self.profession = profession\n",
    "    def intro(self):\n",
    "        print(f\"Hey there!, my name is {self.name}, I am {self.age} years old and I am a {self.profession} \")\n",
    "\n",
    "person_1 = person(\"Aryan\",22,\"developer\")\n",
    "person_1.intro()"
   ]
  },
  {
   "attachments": {},
   "cell_type": "markdown",
   "metadata": {},
   "source": [
    "Q4. Why self is used in OOPs?"
   ]
  },
  {
   "attachments": {},
   "cell_type": "markdown",
   "metadata": {},
   "source": [
    "Ans) In object-oriented programming (OOP), the self parameter is used to refer to the instance (object) of a class within its methods. It acts as a reference to the current object being operated on. It is a convention in Python to name this parameter as self. "
   ]
  },
  {
   "attachments": {},
   "cell_type": "markdown",
   "metadata": {},
   "source": [
    "Q5. What is inheritance? Give an example for each type of inheritance."
   ]
  },
  {
   "attachments": {},
   "cell_type": "markdown",
   "metadata": {},
   "source": [
    "Ans) Inheritance is a fundamental concept in object-oriented programming (OOP) that allows the creation of new classes (derived classes) based on existing classes (base or parent classes). It enables code reuse and the ability to extend or modify the functionality of existing classes.\n",
    "\n",
    "Inheritance is represented by an \"is-a\" relationship, where a derived class inherits the properties (attributes and methods) of its base class. The derived class can add its own unique properties or override the inherited properties to customize its behavior. This relationship forms a hierarchical structure, where classes are organized in a parent-child relationship.\n",
    "\n",
    "There are different types of inheritance based on the way classes are derived and the level of access to the inherited properties. The common types of inheritance are:\n",
    "\n",
    "Single Inheritance: In single inheritance, a derived class inherits properties from a single base class. It forms a one-level hierarchy. It is the simplest form of inheritance. "
   ]
  },
  {
   "cell_type": "code",
   "execution_count": null,
   "metadata": {},
   "outputs": [],
   "source": [
    "# Example of Single inheritance \n",
    "class Animal:\n",
    "    def __init__(self, name):\n",
    "        self.name = name\n",
    "\n",
    "    def sound(self):\n",
    "        pass \n",
    "class Dog(Animal):\n",
    "    def sound(self):\n",
    "        return \"Woof!\"\n",
    "\n",
    "dog = Dog(\"Oreo\")\n",
    "print(dog.name)\n",
    "print(dog.sound())"
   ]
  },
  {
   "attachments": {},
   "cell_type": "markdown",
   "metadata": {},
   "source": [
    "Multiple Inheritance: Multiple inheritance allows a derived class to inherit properties from multiple base classes. It enables the derived class to combine the features and behaviors of multiple classes."
   ]
  },
  {
   "cell_type": "code",
   "execution_count": null,
   "metadata": {},
   "outputs": [],
   "source": [
    "#Example \n",
    "class Father:\n",
    "    def __init__(self):\n",
    "        self.eye= \"Brown\"\n",
    "\n",
    "class Mother:\n",
    "    def __init__(self):\n",
    "        self.hair= \"Black\"\n",
    "\n",
    "class Child(Father,Mother):\n",
    "    pass\n",
    "\n",
    "\n",
    "child = Child()\n",
    "print(child.eye)   \n",
    "print(child.hair)   "
   ]
  },
  {
   "attachments": {},
   "cell_type": "markdown",
   "metadata": {},
   "source": [
    "Multilevel Inheritance: Multilevel inheritance involves deriving a class from another derived class. It forms a multi-level hierarchy, where classes are derived one after another."
   ]
  },
  {
   "cell_type": "code",
   "execution_count": 22,
   "metadata": {},
   "outputs": [
    {
     "name": "stdout",
     "output_type": "stream",
     "text": [
      "Eating...\n",
      "Barking...\n",
      "Sleeping...\n"
     ]
    }
   ],
   "source": [
    "# Example \n",
    "class Animal:\n",
    "    def eat(self):\n",
    "        print(\"Eating...\")\n",
    "\n",
    "class Dog(Animal):\n",
    "    def bark(self):\n",
    "        print(\"Barking...\")\n",
    "\n",
    "class Bulldog(Dog):\n",
    "    def sleep(self):\n",
    "        print(\"Sleeping...\")\n",
    "\n",
    "bulldog = Bulldog()\n",
    "bulldog.eat()\n",
    "bulldog.bark()\n",
    "bulldog.sleep()"
   ]
  }
 ],
 "metadata": {
  "kernelspec": {
   "display_name": "base",
   "language": "python",
   "name": "python3"
  },
  "language_info": {
   "codemirror_mode": {
    "name": "ipython",
    "version": 3
   },
   "file_extension": ".py",
   "mimetype": "text/x-python",
   "name": "python",
   "nbconvert_exporter": "python",
   "pygments_lexer": "ipython3",
   "version": "3.10.9"
  },
  "orig_nbformat": 4
 },
 "nbformat": 4,
 "nbformat_minor": 2
}
